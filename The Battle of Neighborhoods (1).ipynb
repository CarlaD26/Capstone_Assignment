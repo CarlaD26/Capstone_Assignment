{
    "cells": [
        {
            "metadata": {
                "collapsed": true
            },
            "cell_type": "markdown",
            "source": "# The Battle of Neighborhoods-Opening a Pilates Studio in Craiova, Romania"
        },
        {
            "metadata": {},
            "cell_type": "markdown",
            "source": "## 1. The problem and its background"
        },
        {
            "metadata": {},
            "cell_type": "markdown",
            "source": "'Pilates aims to strengthen the body in an even way, with particular emphasis on core strength to improve general fitness and wellbeing.Pilates was developed by German-born Joseph Pilates, who believed mental and physical health were closely connected. His method was influenced by western forms of exercise, including gymnastics, boxing and Greco-Roman wrestling. Pilates immigrated to the US in the 1920s and opened a studio in New York, where he taught his method, which he called \"contrology\" \u2013 for several decades.Practitioners say regular pilates can improve posture, muscle tone, balance and joint mobility, as well as relieve stress and tension. For elite athletes, including dancers, pilates can complement training by developing whole-body strength and flexibility, and help reduce the risk of injury.'- a quote from the NHS (National Health Service) U.K. website\n\nI am Romanian and I have lived in Craiova for most of my life, which is one of the biggest cities in Romania. I know that Romaninas used to not be very aware of the importance of having both a healthy body and a healthy mind. Nevertheless, I have recently discovered that more and more Romanians have started to be more active and going to the gym or jogging in the park are preffered activities during their spare time. Unfortunately, despite being one of the biggest cities in the country, Craiova lacks pilates studios. I am sure that by opening a proper pilates studio, where people can go and unwind after a hard and stressful day at work, would be a profitable business considering the change in people's perspective when it comes to sports and excercise. As a result, people would start being more aware of the importance of this kind of activity and would appreciate it. Even though pilates is better known in the Western countries, I believe that it would be at least as successful in the Eastern countries as it is in the Western ones. It just needs to be advertised and with a new business comes the advertising, so by opening a pilates studio, pilates would definitely get promoted."
        },
        {
            "metadata": {},
            "cell_type": "markdown",
            "source": "## 2. Data and how it will be used to solve the problem"
        },
        {
            "metadata": {},
            "cell_type": "markdown",
            "source": "- Data from Foursquare will be used in order to find out if there are any pilates studios in Craiova.\n- Data from Foursquare will be used in order to determine which neighborhood/part of the city would be the most appropriate for a pilates studio. If there are other pilates studios in the city, then a new studio should be opened in a different area. If there are none, the studio should be close to different types of venues and in an area that would be easily accesible for most people that live in Craiova."
        },
        {
            "metadata": {},
            "cell_type": "markdown",
            "source": "## 3. Methodology"
        },
        {
            "metadata": {},
            "cell_type": "markdown",
            "source": "This project is focused on exploring Craiova, one of the biggest cities in Romania. By using Foursquare Data Location, the types of venues and venues in Craiova have been discovered. Craiova is a beautiful city and its downtown is filled with different types of restaurants, coffee shops and other interesting places. Since it is quite a small city compared to New York or London for example, it was very easy to determine all the venues, which are 50 in total, and to see that they are located in the city centre. A list with the venues and then a map have been produced. Moreover, a map with the location of the pilates studio has been produced using folium."
        },
        {
            "metadata": {},
            "cell_type": "markdown",
            "source": "## 4. Results"
        },
        {
            "metadata": {},
            "cell_type": "markdown",
            "source": "After conducting the analysis, the fact that there are 50 venues of different sorts in Craiova has been determined, but no pilates studios have been found, as expected. All  the venues are in the city centre and so opening a pilates studio there would be the best idea. As explained before, it would be more profitable to open the studio in the city centre than any other neighborhood, since it is the place that most people have access to, it would be in a busy area, with many potential clients and it would be easy to advertise."
        },
        {
            "metadata": {},
            "cell_type": "markdown",
            "source": "## 5. Discussion"
        },
        {
            "metadata": {},
            "cell_type": "markdown",
            "source": "As explained above, since there are no pilates studios in Craiova, it would be a great idea to open one in the city centre where most of the eating and entertainment venues are. It would be a successful business since there is no competition. Romanians have started being more and more interested in fitness and wellbeing and a pilates studio in Craiova would be a great opportunity for them to start learning more about this kind of activity. People will definitely start appreciating its benefits when it comes to the overall health and it will become a key activity that people in Craiova would start practicing. "
        },
        {
            "metadata": {},
            "cell_type": "markdown",
            "source": "## 6. Conclusion"
        },
        {
            "metadata": {},
            "cell_type": "markdown",
            "source": "The pilates studio called \"Pilates World\" will be opened in the centre of Craiova, close to all other amenities. It will be located on a less busy street, somewhere with the perfect balance of busyness and calm. The studio will be easily accessible for most people and advertising will be possible since it will be in a central location. The business will be prosperous, since \"Pilates World\" will be the first pilates studio in the city and people will start being very enthusiastic about taking up this kind of activity."
        },
        {
            "metadata": {},
            "cell_type": "code",
            "source": "",
            "execution_count": null,
            "outputs": []
        }
    ],
    "metadata": {
        "kernelspec": {
            "name": "python3",
            "display_name": "Python 3.6",
            "language": "python"
        },
        "language_info": {
            "name": "python",
            "version": "3.6.9",
            "mimetype": "text/x-python",
            "codemirror_mode": {
                "name": "ipython",
                "version": 3
            },
            "pygments_lexer": "ipython3",
            "nbconvert_exporter": "python",
            "file_extension": ".py"
        }
    },
    "nbformat": 4,
    "nbformat_minor": 1
}